{
 "cells": [
  {
   "cell_type": "code",
   "execution_count": null,
   "metadata": {
    "collapsed": true
   },
   "outputs": [],
   "source": [
    "import json\n",
    "import csv\n",
    "import pandas as pd\n",
    "import numpy as np\n",
    "\n",
    "file = \"purchase_data.json\" #data set 1\n",
    "file_df = pd.read_json(file) # data set 1\n",
    "\n",
    "#file = \"purchase_data2.json\" # data set 2\n",
    "#file_df = pd.read_json(file) # data set 2\n",
    "\n",
    "\n",
    "\n",
    "#file_df.head()\n",
    "file_df.columns\n"
   ]
  },
  {
   "cell_type": "markdown",
   "metadata": {},
   "source": [
    "# Player Count"
   ]
  },
  {
   "cell_type": "code",
   "execution_count": 454,
   "metadata": {},
   "outputs": [
    {
     "data": {
      "text/html": [
       "<div>\n",
       "<style>\n",
       "    .dataframe thead tr:only-child th {\n",
       "        text-align: right;\n",
       "    }\n",
       "\n",
       "    .dataframe thead th {\n",
       "        text-align: left;\n",
       "    }\n",
       "\n",
       "    .dataframe tbody tr th {\n",
       "        vertical-align: top;\n",
       "    }\n",
       "</style>\n",
       "<table border=\"1\" class=\"dataframe\">\n",
       "  <thead>\n",
       "    <tr style=\"text-align: right;\">\n",
       "      <th></th>\n",
       "      <th>Total Players</th>\n",
       "    </tr>\n",
       "  </thead>\n",
       "  <tbody>\n",
       "    <tr>\n",
       "      <th>0</th>\n",
       "      <td>573</td>\n",
       "    </tr>\n",
       "  </tbody>\n",
       "</table>\n",
       "</div>"
      ],
      "text/plain": [
       "   Total Players\n",
       "0            573"
      ]
     },
     "execution_count": 454,
     "metadata": {},
     "output_type": "execute_result"
    }
   ],
   "source": [
    "total_players = pd.DataFrame(\n",
    "                        {\"Total Players\": [file_df[\"SN\"].nunique()]})\n",
    "total_players\n",
    "\n"
   ]
  },
  {
   "cell_type": "markdown",
   "metadata": {},
   "source": [
    "# Purchasing Analysis"
   ]
  },
  {
   "cell_type": "code",
   "execution_count": 422,
   "metadata": {},
   "outputs": [
    {
     "data": {
      "text/html": [
       "<div>\n",
       "<style>\n",
       "    .dataframe thead tr:only-child th {\n",
       "        text-align: right;\n",
       "    }\n",
       "\n",
       "    .dataframe thead th {\n",
       "        text-align: left;\n",
       "    }\n",
       "\n",
       "    .dataframe tbody tr th {\n",
       "        vertical-align: top;\n",
       "    }\n",
       "</style>\n",
       "<table border=\"1\" class=\"dataframe\">\n",
       "  <thead>\n",
       "    <tr style=\"text-align: right;\">\n",
       "      <th></th>\n",
       "      <th>Average purchase price</th>\n",
       "      <th>Number of unique items</th>\n",
       "      <th>Total number of purchases</th>\n",
       "      <th>Total revenue</th>\n",
       "    </tr>\n",
       "  </thead>\n",
       "  <tbody>\n",
       "    <tr>\n",
       "      <th>0</th>\n",
       "      <td>2.931192</td>\n",
       "      <td>183</td>\n",
       "      <td>780</td>\n",
       "      <td>2286.33</td>\n",
       "    </tr>\n",
       "  </tbody>\n",
       "</table>\n",
       "</div>"
      ],
      "text/plain": [
       "   Average purchase price  Number of unique items  Total number of purchases  \\\n",
       "0                2.931192                     183                        780   \n",
       "\n",
       "   Total revenue  \n",
       "0        2286.33  "
      ]
     },
     "execution_count": 422,
     "metadata": {},
     "output_type": "execute_result"
    }
   ],
   "source": [
    "purchase = pd.DataFrame(\n",
    "                {\"Number of unique items\": [file_df[\"Item ID\"].nunique()],\n",
    "                    \"Average purchase price\": [file_df[\"Price\"].mean()],\n",
    "                    \"Total number of purchases\": [file_df[\"Price\"].count()],\n",
    "                    \"Total revenue\": [file_df[\"Price\"].sum()]})\n",
    "purchase"
   ]
  },
  {
   "cell_type": "markdown",
   "metadata": {},
   "source": [
    "# Gender Demographics"
   ]
  },
  {
   "cell_type": "code",
   "execution_count": 432,
   "metadata": {},
   "outputs": [
    {
     "data": {
      "text/html": [
       "<div>\n",
       "<style>\n",
       "    .dataframe thead tr:only-child th {\n",
       "        text-align: right;\n",
       "    }\n",
       "\n",
       "    .dataframe thead th {\n",
       "        text-align: left;\n",
       "    }\n",
       "\n",
       "    .dataframe tbody tr th {\n",
       "        vertical-align: top;\n",
       "    }\n",
       "</style>\n",
       "<table border=\"1\" class=\"dataframe\">\n",
       "  <thead>\n",
       "    <tr style=\"text-align: right;\">\n",
       "      <th></th>\n",
       "      <th>Gender</th>\n",
       "      <th>Count</th>\n",
       "      <th>Percentage</th>\n",
       "    </tr>\n",
       "  </thead>\n",
       "  <tbody>\n",
       "    <tr>\n",
       "      <th>0</th>\n",
       "      <td>Female</td>\n",
       "      <td>100</td>\n",
       "      <td>17.452007</td>\n",
       "    </tr>\n",
       "    <tr>\n",
       "      <th>1</th>\n",
       "      <td>Male</td>\n",
       "      <td>465</td>\n",
       "      <td>81.151832</td>\n",
       "    </tr>\n",
       "    <tr>\n",
       "      <th>2</th>\n",
       "      <td>Other / Non-Disclosed</td>\n",
       "      <td>8</td>\n",
       "      <td>1.396161</td>\n",
       "    </tr>\n",
       "  </tbody>\n",
       "</table>\n",
       "</div>"
      ],
      "text/plain": [
       "                  Gender  Count  Percentage\n",
       "0                 Female    100   17.452007\n",
       "1                   Male    465   81.151832\n",
       "2  Other / Non-Disclosed      8    1.396161"
      ]
     },
     "execution_count": 432,
     "metadata": {},
     "output_type": "execute_result"
    }
   ],
   "source": [
    "gender = file_df.groupby(\"Gender\")[\"SN\"].nunique().reset_index()\n",
    "gender[\"Percentage\"] = 100 * gender[\"SN\"] / gender[\"SN\"].sum()\n",
    "gender = gender.rename(columns={\"SN\" : \"Count\"})\n",
    "gender\n",
    "#gender.groupby(\"Gender\").mean().head()"
   ]
  },
  {
   "cell_type": "markdown",
   "metadata": {},
   "source": [
    "# Purchasing Analysis Gender"
   ]
  },
  {
   "cell_type": "code",
   "execution_count": 448,
   "metadata": {},
   "outputs": [
    {
     "data": {
      "text/html": [
       "<div>\n",
       "<style>\n",
       "    .dataframe thead tr:only-child th {\n",
       "        text-align: right;\n",
       "    }\n",
       "\n",
       "    .dataframe thead th {\n",
       "        text-align: left;\n",
       "    }\n",
       "\n",
       "    .dataframe tbody tr th {\n",
       "        vertical-align: top;\n",
       "    }\n",
       "</style>\n",
       "<table border=\"1\" class=\"dataframe\">\n",
       "  <thead>\n",
       "    <tr style=\"text-align: right;\">\n",
       "      <th></th>\n",
       "      <th>Count</th>\n",
       "      <th>Avg Price</th>\n",
       "      <th>Total Purchase</th>\n",
       "      <th>Normalized Totals</th>\n",
       "    </tr>\n",
       "    <tr>\n",
       "      <th>Gender</th>\n",
       "      <th></th>\n",
       "      <th></th>\n",
       "      <th></th>\n",
       "      <th></th>\n",
       "    </tr>\n",
       "  </thead>\n",
       "  <tbody>\n",
       "    <tr>\n",
       "      <th>Female</th>\n",
       "      <td>136</td>\n",
       "      <td>2.815515</td>\n",
       "      <td>$382.91</td>\n",
       "      <td>0.495769</td>\n",
       "    </tr>\n",
       "    <tr>\n",
       "      <th>Male</th>\n",
       "      <td>633</td>\n",
       "      <td>2.950521</td>\n",
       "      <td>$1,867.68</td>\n",
       "      <td>2.345310</td>\n",
       "    </tr>\n",
       "    <tr>\n",
       "      <th>Other / Non-Disclosed</th>\n",
       "      <td>11</td>\n",
       "      <td>3.249091</td>\n",
       "      <td>$35.74</td>\n",
       "      <td>0.028852</td>\n",
       "    </tr>\n",
       "  </tbody>\n",
       "</table>\n",
       "</div>"
      ],
      "text/plain": [
       "                       Count  Avg Price Total Purchase  Normalized Totals\n",
       "Gender                                                                   \n",
       "Female                   136   2.815515        $382.91           0.495769\n",
       "Male                     633   2.950521      $1,867.68           2.345310\n",
       "Other / Non-Disclosed     11   3.249091         $35.74           0.028852"
      ]
     },
     "execution_count": 448,
     "metadata": {},
     "output_type": "execute_result"
    }
   ],
   "source": [
    "genderp = file_df[[\"Gender\",\"Price\"]]\n",
    "genderp = genderp.groupby(\"Gender\").count()\n",
    "genderp[\"Avg Price\"] = file_df.groupby([\"Gender\"])[\"Price\"].mean() #wont let me calculate normalized if formatted\n",
    "genderp[\"Total Purchase\"] = file_df.groupby([\"Gender\"])[\"Price\"].sum().map('${:,.2f}'.format)\n",
    "genderp[\"Normalized Totals\"] = (genderp[\"Price\"] - genderp[\"Avg Price\"])/genderp[\"Price\"].std(ddof=0)\n",
    "genderp = genderp.rename(columns={\"Price\" : \"Count\"})\n",
    "genderp"
   ]
  },
  {
   "cell_type": "markdown",
   "metadata": {},
   "source": [
    "# AGE DEMOGRAPHICS"
   ]
  },
  {
   "cell_type": "code",
   "execution_count": 455,
   "metadata": {},
   "outputs": [
    {
     "data": {
      "text/html": [
       "<div>\n",
       "<style>\n",
       "    .dataframe thead tr:only-child th {\n",
       "        text-align: right;\n",
       "    }\n",
       "\n",
       "    .dataframe thead th {\n",
       "        text-align: left;\n",
       "    }\n",
       "\n",
       "    .dataframe tbody tr th {\n",
       "        vertical-align: top;\n",
       "    }\n",
       "</style>\n",
       "<table border=\"1\" class=\"dataframe\">\n",
       "  <thead>\n",
       "    <tr style=\"text-align: right;\">\n",
       "      <th></th>\n",
       "      <th>Count</th>\n",
       "      <th>Avg Price</th>\n",
       "      <th>Total Purchase</th>\n",
       "      <th>Normalized Totals</th>\n",
       "    </tr>\n",
       "    <tr>\n",
       "      <th>Age Group</th>\n",
       "      <th></th>\n",
       "      <th></th>\n",
       "      <th></th>\n",
       "      <th></th>\n",
       "    </tr>\n",
       "  </thead>\n",
       "  <tbody>\n",
       "    <tr>\n",
       "      <th>&lt;10</th>\n",
       "      <td>32</td>\n",
       "      <td>3.019375</td>\n",
       "      <td>$96.62</td>\n",
       "      <td>0.311999</td>\n",
       "    </tr>\n",
       "    <tr>\n",
       "      <th>10-14</th>\n",
       "      <td>78</td>\n",
       "      <td>2.873718</td>\n",
       "      <td>$224.15</td>\n",
       "      <td>0.808792</td>\n",
       "    </tr>\n",
       "    <tr>\n",
       "      <th>15-19</th>\n",
       "      <td>184</td>\n",
       "      <td>2.873587</td>\n",
       "      <td>$528.74</td>\n",
       "      <td>1.949965</td>\n",
       "    </tr>\n",
       "    <tr>\n",
       "      <th>20-24</th>\n",
       "      <td>305</td>\n",
       "      <td>2.959377</td>\n",
       "      <td>$902.61</td>\n",
       "      <td>3.251699</td>\n",
       "    </tr>\n",
       "    <tr>\n",
       "      <th>25-29</th>\n",
       "      <td>76</td>\n",
       "      <td>2.892368</td>\n",
       "      <td>$219.82</td>\n",
       "      <td>0.787060</td>\n",
       "    </tr>\n",
       "    <tr>\n",
       "      <th>30-34</th>\n",
       "      <td>58</td>\n",
       "      <td>3.073448</td>\n",
       "      <td>$178.26</td>\n",
       "      <td>0.591326</td>\n",
       "    </tr>\n",
       "    <tr>\n",
       "      <th>35-39</th>\n",
       "      <td>44</td>\n",
       "      <td>2.897500</td>\n",
       "      <td>$127.49</td>\n",
       "      <td>0.442500</td>\n",
       "    </tr>\n",
       "    <tr>\n",
       "      <th>40-45</th>\n",
       "      <td>3</td>\n",
       "      <td>2.880000</td>\n",
       "      <td>$8.64</td>\n",
       "      <td>0.001292</td>\n",
       "    </tr>\n",
       "  </tbody>\n",
       "</table>\n",
       "</div>"
      ],
      "text/plain": [
       "           Count  Avg Price Total Purchase  Normalized Totals\n",
       "Age Group                                                    \n",
       "<10           32   3.019375         $96.62           0.311999\n",
       "10-14         78   2.873718        $224.15           0.808792\n",
       "15-19        184   2.873587        $528.74           1.949965\n",
       "20-24        305   2.959377        $902.61           3.251699\n",
       "25-29         76   2.892368        $219.82           0.787060\n",
       "30-34         58   3.073448        $178.26           0.591326\n",
       "35-39         44   2.897500        $127.49           0.442500\n",
       "40-45          3   2.880000          $8.64           0.001292"
      ]
     },
     "execution_count": 455,
     "metadata": {},
     "output_type": "execute_result"
    }
   ],
   "source": [
    "#maxed = file_df[\"Age\"].max()\n",
    "#maxed - 45\n",
    "bins = [0,10,15,20,25,30,35,40,50]\n",
    "age = [\"<10\",\"10-14\",\"15-19\",\"20-24\",\"25-29\",\"30-34\",\"35-39\",\"40-45\"]\n",
    "\n",
    "pd.cut(file_df[\"Age\"],bins,labels=age).head()\n",
    "\n",
    "aged_df=file_df\n",
    "\n",
    "aged_df[\"Age Group\"] = pd.cut(aged_df[\"Age\"],bins,labels=age)\n",
    "#aged_df.head()\n",
    "\n",
    "age_demo = aged_df[[\"Age Group\",\"Price\"]]\n",
    "age_demo = age_demo.groupby(\"Age Group\").count()\n",
    "age_demo[\"Avg Price\"] = aged_df.groupby([\"Age Group\"])[\"Price\"].mean() #wont let me calculate normalized if formatted\n",
    "age_demo[\"Total Purchase\"] = aged_df.groupby([\"Age Group\"])[\"Price\"].sum().map('${:,.2f}'.format)\n",
    "age_demo[\"Normalized Totals\"] = (age_demo[\"Price\"]-age_demo[\"Avg Price\"])/age_demo[\"Price\"].std(ddof=0)\n",
    "age_demo = age_demo.rename(columns={\"Price\" : \"Count\"})\n",
    "age_demo"
   ]
  },
  {
   "cell_type": "markdown",
   "metadata": {},
   "source": [
    "# Top Spender"
   ]
  },
  {
   "cell_type": "code",
   "execution_count": 434,
   "metadata": {},
   "outputs": [
    {
     "data": {
      "text/html": [
       "<div>\n",
       "<style>\n",
       "    .dataframe thead tr:only-child th {\n",
       "        text-align: right;\n",
       "    }\n",
       "\n",
       "    .dataframe thead th {\n",
       "        text-align: left;\n",
       "    }\n",
       "\n",
       "    .dataframe tbody tr th {\n",
       "        vertical-align: top;\n",
       "    }\n",
       "</style>\n",
       "<table border=\"1\" class=\"dataframe\">\n",
       "  <thead>\n",
       "    <tr style=\"text-align: right;\">\n",
       "      <th></th>\n",
       "      <th>SN</th>\n",
       "      <th>Count</th>\n",
       "      <th>Avg Price</th>\n",
       "      <th>Total Purchase</th>\n",
       "    </tr>\n",
       "  </thead>\n",
       "  <tbody>\n",
       "    <tr>\n",
       "      <th>0</th>\n",
       "      <td>Qarwen67</td>\n",
       "      <td>4</td>\n",
       "      <td>$2.49</td>\n",
       "      <td>$9.97</td>\n",
       "    </tr>\n",
       "    <tr>\n",
       "      <th>1</th>\n",
       "      <td>Sondim43</td>\n",
       "      <td>3</td>\n",
       "      <td>$3.13</td>\n",
       "      <td>$9.38</td>\n",
       "    </tr>\n",
       "    <tr>\n",
       "      <th>2</th>\n",
       "      <td>Tillyrin30</td>\n",
       "      <td>3</td>\n",
       "      <td>$3.06</td>\n",
       "      <td>$9.19</td>\n",
       "    </tr>\n",
       "    <tr>\n",
       "      <th>3</th>\n",
       "      <td>Lisistaya47</td>\n",
       "      <td>3</td>\n",
       "      <td>$3.06</td>\n",
       "      <td>$9.19</td>\n",
       "    </tr>\n",
       "    <tr>\n",
       "      <th>4</th>\n",
       "      <td>Tyisriphos58</td>\n",
       "      <td>2</td>\n",
       "      <td>$4.59</td>\n",
       "      <td>$9.18</td>\n",
       "    </tr>\n",
       "  </tbody>\n",
       "</table>\n",
       "</div>"
      ],
      "text/plain": [
       "             SN  Count Avg Price Total Purchase\n",
       "0      Qarwen67      4     $2.49          $9.97\n",
       "1      Sondim43      3     $3.13          $9.38\n",
       "2    Tillyrin30      3     $3.06          $9.19\n",
       "3   Lisistaya47      3     $3.06          $9.19\n",
       "4  Tyisriphos58      2     $4.59          $9.18"
      ]
     },
     "execution_count": 434,
     "metadata": {},
     "output_type": "execute_result"
    }
   ],
   "source": [
    "baller = file_df[[\"SN\",\"Price\"]]\n",
    "baller = baller.groupby(\"SN\").count()\n",
    "baller[\"Avg Price\"] = file_df.groupby([\"SN\"])[\"Price\"].mean().map('${:,.2f}'.format)\n",
    "baller[\"Total Purchase\"] = file_df.groupby([\"SN\"])[\"Price\"].sum().map('${:,.2f}'.format)\n",
    "baller = baller.rename(columns={\"Price\" : \"Count\"})\n",
    "biggest_baller = baller.sort_values([\"Total Purchase\"], ascending=False)\n",
    "biggest_baller.reset_index(inplace=True)\n",
    "biggest_baller.head(5)\n",
    "\n",
    "#baller.head()"
   ]
  },
  {
   "cell_type": "markdown",
   "metadata": {},
   "source": [
    "# popular"
   ]
  },
  {
   "cell_type": "code",
   "execution_count": 429,
   "metadata": {},
   "outputs": [
    {
     "data": {
      "text/html": [
       "<div>\n",
       "<style>\n",
       "    .dataframe thead tr:only-child th {\n",
       "        text-align: right;\n",
       "    }\n",
       "\n",
       "    .dataframe thead th {\n",
       "        text-align: left;\n",
       "    }\n",
       "\n",
       "    .dataframe tbody tr th {\n",
       "        vertical-align: top;\n",
       "    }\n",
       "</style>\n",
       "<table border=\"1\" class=\"dataframe\">\n",
       "  <thead>\n",
       "    <tr style=\"text-align: right;\">\n",
       "      <th></th>\n",
       "      <th>Item ID</th>\n",
       "      <th>Item Name</th>\n",
       "      <th>Count</th>\n",
       "      <th>Avg Price</th>\n",
       "      <th>Total Purchase</th>\n",
       "    </tr>\n",
       "  </thead>\n",
       "  <tbody>\n",
       "    <tr>\n",
       "      <th>0</th>\n",
       "      <td>39</td>\n",
       "      <td>Betrayal, Whisper of Grieving Widows</td>\n",
       "      <td>11</td>\n",
       "      <td>$2.35</td>\n",
       "      <td>$25.85</td>\n",
       "    </tr>\n",
       "    <tr>\n",
       "      <th>1</th>\n",
       "      <td>84</td>\n",
       "      <td>Arcane Gem</td>\n",
       "      <td>11</td>\n",
       "      <td>$2.23</td>\n",
       "      <td>$24.53</td>\n",
       "    </tr>\n",
       "    <tr>\n",
       "      <th>2</th>\n",
       "      <td>31</td>\n",
       "      <td>Trickster</td>\n",
       "      <td>9</td>\n",
       "      <td>$2.07</td>\n",
       "      <td>$18.63</td>\n",
       "    </tr>\n",
       "    <tr>\n",
       "      <th>3</th>\n",
       "      <td>175</td>\n",
       "      <td>Woeful Adamantite Claymore</td>\n",
       "      <td>9</td>\n",
       "      <td>$1.24</td>\n",
       "      <td>$11.16</td>\n",
       "    </tr>\n",
       "    <tr>\n",
       "      <th>4</th>\n",
       "      <td>13</td>\n",
       "      <td>Serenity</td>\n",
       "      <td>9</td>\n",
       "      <td>$1.49</td>\n",
       "      <td>$13.41</td>\n",
       "    </tr>\n",
       "  </tbody>\n",
       "</table>\n",
       "</div>"
      ],
      "text/plain": [
       "   Item ID                             Item Name  Count Avg Price  \\\n",
       "0       39  Betrayal, Whisper of Grieving Widows     11     $2.35   \n",
       "1       84                            Arcane Gem     11     $2.23   \n",
       "2       31                             Trickster      9     $2.07   \n",
       "3      175            Woeful Adamantite Claymore      9     $1.24   \n",
       "4       13                              Serenity      9     $1.49   \n",
       "\n",
       "  Total Purchase  \n",
       "0         $25.85  \n",
       "1         $24.53  \n",
       "2         $18.63  \n",
       "3         $11.16  \n",
       "4         $13.41  "
      ]
     },
     "execution_count": 429,
     "metadata": {},
     "output_type": "execute_result"
    }
   ],
   "source": [
    "pop = file_df[[\"Item ID\",\"Item Name\",\"Price\"]]\n",
    "pop = pop.groupby([\"Item ID\",\"Item Name\"]).count()\n",
    "pop[\"Avg Price\"] = file_df.groupby([\"Item ID\", \"Item Name\"])[\"Price\"].mean().map('${:,.2f}'.format)\n",
    "pop[\"Total Purchase\"] = file_df.groupby([\"Item ID\", \"Item Name\"])[\"Price\"].sum().map('${:,.2f}'.format)\n",
    "pop = pop.rename(columns={\"Price\" : \"Count\"})\n",
    "\n",
    "most_pop = pop.sort_values([\"Count\"], ascending=False)\n",
    "most_pop.reset_index(inplace=True)\n",
    "most_pop.head(5)"
   ]
  },
  {
   "cell_type": "markdown",
   "metadata": {},
   "source": [
    "# money maker"
   ]
  },
  {
   "cell_type": "code",
   "execution_count": 456,
   "metadata": {},
   "outputs": [
    {
     "data": {
      "text/html": [
       "<div>\n",
       "<style>\n",
       "    .dataframe thead tr:only-child th {\n",
       "        text-align: right;\n",
       "    }\n",
       "\n",
       "    .dataframe thead th {\n",
       "        text-align: left;\n",
       "    }\n",
       "\n",
       "    .dataframe tbody tr th {\n",
       "        vertical-align: top;\n",
       "    }\n",
       "</style>\n",
       "<table border=\"1\" class=\"dataframe\">\n",
       "  <thead>\n",
       "    <tr style=\"text-align: right;\">\n",
       "      <th></th>\n",
       "      <th>Item ID</th>\n",
       "      <th>Item Name</th>\n",
       "      <th>Count</th>\n",
       "      <th>Avg Price</th>\n",
       "      <th>Total Purchase Value</th>\n",
       "    </tr>\n",
       "  </thead>\n",
       "  <tbody>\n",
       "    <tr>\n",
       "      <th>0</th>\n",
       "      <td>170</td>\n",
       "      <td>Shadowsteel</td>\n",
       "      <td>5</td>\n",
       "      <td>$1.98</td>\n",
       "      <td>$9.90</td>\n",
       "    </tr>\n",
       "    <tr>\n",
       "      <th>1</th>\n",
       "      <td>21</td>\n",
       "      <td>Souleater</td>\n",
       "      <td>3</td>\n",
       "      <td>$3.27</td>\n",
       "      <td>$9.81</td>\n",
       "    </tr>\n",
       "    <tr>\n",
       "      <th>2</th>\n",
       "      <td>37</td>\n",
       "      <td>Shadow Strike, Glory of Ending Hope</td>\n",
       "      <td>5</td>\n",
       "      <td>$1.93</td>\n",
       "      <td>$9.65</td>\n",
       "    </tr>\n",
       "    <tr>\n",
       "      <th>3</th>\n",
       "      <td>127</td>\n",
       "      <td>Heartseeker, Reaver of Souls</td>\n",
       "      <td>3</td>\n",
       "      <td>$3.21</td>\n",
       "      <td>$9.63</td>\n",
       "    </tr>\n",
       "    <tr>\n",
       "      <th>4</th>\n",
       "      <td>120</td>\n",
       "      <td>Agatha</td>\n",
       "      <td>5</td>\n",
       "      <td>$1.91</td>\n",
       "      <td>$9.55</td>\n",
       "    </tr>\n",
       "  </tbody>\n",
       "</table>\n",
       "</div>"
      ],
      "text/plain": [
       "   Item ID                            Item Name  Count Avg Price  \\\n",
       "0      170                          Shadowsteel      5     $1.98   \n",
       "1       21                            Souleater      3     $3.27   \n",
       "2       37  Shadow Strike, Glory of Ending Hope      5     $1.93   \n",
       "3      127         Heartseeker, Reaver of Souls      3     $3.21   \n",
       "4      120                               Agatha      5     $1.91   \n",
       "\n",
       "  Total Purchase Value  \n",
       "0                $9.90  \n",
       "1                $9.81  \n",
       "2                $9.65  \n",
       "3                $9.63  \n",
       "4                $9.55  "
      ]
     },
     "execution_count": 456,
     "metadata": {},
     "output_type": "execute_result"
    }
   ],
   "source": [
    "profit = file_df[[\"Item ID\",\"Item Name\",\"Price\"]]\n",
    "profit = profit.groupby([\"Item ID\",\"Item Name\"]).count()\n",
    "profit[\"Avg Price\"] = file_df.groupby([\"Item ID\", \"Item Name\"])[\"Price\"].mean().map('${:,.2f}'.format)\n",
    "profit[\"Total Purchase Value\"] = file_df.groupby([\"Item ID\", \"Item Name\"])[\"Price\"].sum().map('${:,.2f}'.format)\n",
    "profit = profit.rename(columns={\"Price\" : \"Count\"})\n",
    "\n",
    "most_profit = profit.sort_values([\"Total Purchase Value\"], ascending=False)\n",
    "most_profit.reset_index(inplace=True)\n",
    "most_profit.head(5)"
   ]
  },
  {
   "cell_type": "markdown",
   "metadata": {
    "collapsed": true
   },
   "source": [
    "# Observations"
   ]
  },
  {
   "cell_type": "code",
   "execution_count": null,
   "metadata": {
    "collapsed": true
   },
   "outputs": [],
   "source": [
    "Observations:\n",
    "    #1 - as expected most of the age group falls between the 15-19 and 20-24 age range\n",
    "    #2 - males dominate purchasing volume accounting for over 80% of volume\n",
    "    #3 - There doesnt appear to be one item that has high volume and the item volume appears to be more distributed amongst the 183 items\n",
    "    "
   ]
  }
 ],
 "metadata": {
  "kernelspec": {
   "display_name": "Python 3",
   "language": "python",
   "name": "python3"
  },
  "language_info": {
   "codemirror_mode": {
    "name": "ipython",
    "version": 3
   },
   "file_extension": ".py",
   "mimetype": "text/x-python",
   "name": "python",
   "nbconvert_exporter": "python",
   "pygments_lexer": "ipython3",
   "version": "3.6.3"
  }
 },
 "nbformat": 4,
 "nbformat_minor": 2
}
